{
 "cells": [
  {
   "cell_type": "code",
   "execution_count": 65,
   "metadata": {},
   "outputs": [
    {
     "name": "stdout",
     "output_type": "stream",
     "text": [
      "{'neg': 0.0, 'neu': 0.26, 'pos': 0.74, 'compound': 0.431}\n"
     ]
    }
   ],
   "source": [
    "import spacy\n",
    "from vaderSentiment import vaderSentiment\n",
    "english = spacy.load(\"en_core_web_sm\")"
   ]
  },
  {
   "cell_type": "code",
   "execution_count": 73,
   "metadata": {},
   "outputs": [
    {
     "name": "stdout",
     "output_type": "stream",
     "text": [
      "Enter the statement: Rahul is mad\n",
      "The statement you just entered is: \n",
      "0.0 % positive\n",
      "61.5 % negative\n",
      "38.5 % neutral\n"
     ]
    }
   ],
   "source": [
    "result = english(input(\"Enter the statement: \"))\n",
    "sentences = [str(s) for s in result.sents]\n",
    "analyzer = vaderSentiment.SentimentIntensityAnalyzer()\n",
    "sentiment = [analyzer.polarity_scores(str(s)) for s in sentences]\n",
    "print(\"The statement you just entered is: \")\n",
    "print(sentiment[0]['pos']*100,'% positive')\n",
    "print(sentiment[0]['neg']*100,'% negative')\n",
    "print(sentiment[0]['neu']*100,'% neutral')"
   ]
  },
  {
   "cell_type": "code",
   "execution_count": null,
   "metadata": {},
   "outputs": [],
   "source": []
  }
 ],
 "metadata": {
  "kernelspec": {
   "display_name": "Python 3",
   "language": "python",
   "name": "python3"
  },
  "language_info": {
   "codemirror_mode": {
    "name": "ipython",
    "version": 3
   },
   "file_extension": ".py",
   "mimetype": "text/x-python",
   "name": "python",
   "nbconvert_exporter": "python",
   "pygments_lexer": "ipython3",
   "version": "3.7.3"
  }
 },
 "nbformat": 4,
 "nbformat_minor": 2
}
